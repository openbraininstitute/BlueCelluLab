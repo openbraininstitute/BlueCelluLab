{
 "cells": [
  {
   "cell_type": "markdown",
   "metadata": {},
   "source": [
    "# Simulating a SONATA Network\n",
    "\n",
    "This notebook shows how to simulate single cell or a group of cells from a SONATA network.\n",
    "\n",
    "SONATA is a data format developed jointly by the Allen Institute for Brain Science (AIBS) and the Blue Brain Project (BBP) to enable standardisation and interoperability of the neuronal network models and simulation. See the [SONATA-extension documentation](https://sonata-extension.readthedocs.io/) for more details on the format and how we use it.\n",
    "\n",
    "In this notebook, you'll explore how to set up and run a simulation of a SONATA-based network, focusing on a specific group of neurons (dSTUT cells). The simulation applies a hyperpolarizing current clamp to these neurons, allowing us to observe their responses and analyze their synaptic connections. Finally, we'll visualize the results by plotting voltage traces to examine how the stimulus affects neuronal activity, providing insights into the network's dynamics."
   ]
  },
  {
   "cell_type": "markdown",
   "metadata": {},
   "source": [
    "## Compiling mechanisms\n",
    "\n",
    "Just like in the previous tutorial, we again need to compile the mechanisms."
   ]
  },
  {
   "cell_type": "code",
   "execution_count": null,
   "metadata": {
    "vscode": {
     "languageId": "shellscript"
    }
   },
   "outputs": [],
   "source": [
    "!nrnivmodl ../mechanisms"
   ]
  },
  {
   "cell_type": "markdown",
   "metadata": {},
   "source": [
    "**Note**: The compiled mechanisms need to be provided before importing bluecellulab."
   ]
  },
  {
   "cell_type": "code",
   "execution_count": 24,
   "metadata": {},
   "outputs": [],
   "source": [
    "import json\n",
    "from pathlib import Path\n",
    "\n",
    "from matplotlib import pyplot as plt\n",
    "import seaborn as sns\n",
    "\n",
    "sns.set_style(\"white\")\n",
    "\n",
    "from bluecellulab import CircuitSimulation\n",
    "from bluecellulab.graph import build_graph, plot_graph"
   ]
  },
  {
   "cell_type": "code",
   "execution_count": 25,
   "metadata": {},
   "outputs": [],
   "source": [
    "import logging\n",
    "\n",
    "logging.basicConfig(\n",
    "    level=logging.WARNING,\n",
    ")"
   ]
  },
  {
   "cell_type": "markdown",
   "metadata": {},
   "source": [
    "Here we have a simulation config as an input.\n",
    "\n",
    "This is the configuration file recognised by the [neurodamus](https://github.com/BlueBrain/neurodamus/) large-scale neuronal network simulator.\n",
    "\n",
    "Bluecellulab reads the same config as neurodamus since one common usage of bluecellulab is to repeat a subset of the large-scale neurodamus simulation to enable experimentation on a small group of cells within the large network."
   ]
  },
  {
   "cell_type": "code",
   "execution_count": null,
   "metadata": {},
   "outputs": [],
   "source": [
    "simulation_config = Path(\"sim_quick_scx_sonata_multicircuit\") / \"simulation_config_compartment_set.json\""
   ]
  },
  {
   "cell_type": "markdown",
   "metadata": {},
   "source": [
    "Now we will see the contents of the input simulation config file."
   ]
  },
  {
   "cell_type": "code",
   "execution_count": 27,
   "metadata": {},
   "outputs": [],
   "source": [
    "with open(simulation_config) as f:\n",
    "    simulation_config_dict = json.load(f)"
   ]
  },
  {
   "cell_type": "markdown",
   "metadata": {},
   "source": [
    "Here is all simulation config entries."
   ]
  },
  {
   "cell_type": "code",
   "execution_count": 28,
   "metadata": {},
   "outputs": [
    {
     "name": "stdout",
     "output_type": "stream",
     "text": [
      "{\n",
      "    \"manifest\": {\n",
      "        \"$OUTPUT_DIR\": \"./output_sonata_compartment_set\",\n",
      "        \"$INPUT_DIR\": \"./input/\"\n",
      "    },\n",
      "    \"run\": {\n",
      "        \"tstart\": 1000.0,\n",
      "        \"tstop\": 1275.0,\n",
      "        \"dt\": 0.025,\n",
      "        \"random_seed\": 1,\n",
      "        \"spike_threshold\": -30\n",
      "    },\n",
      "    \"conditions\": {\n",
      "        \"v_init\": -80,\n",
      "        \"spike_location\": \"AIS\"\n",
      "    },\n",
      "    \"target_simulator\": \"NEURON\",\n",
      "    \"network\": \"circuit_sonata.json\",\n",
      "    \"node_set\": \"Mosaic_A\",\n",
      "    \"compartment_sets_file\": \"./compartment_sets_named_section.json\",\n",
      "    \"output\": {\n",
      "        \"output_dir\": \"$OUTPUT_DIR\",\n",
      "        \"spikes_file\": \"spikes.h5\",\n",
      "        \"spikes_sort_order\": \"by_time\"\n",
      "    },\n",
      "    \"inputs\": {\n",
      "        \"hypamp_mosaic\": {\n",
      "            \"module\": \"hyperpolarizing\",\n",
      "            \"input_type\": \"current_clamp\",\n",
      "            \"delay\": 1000.0,\n",
      "            \"duration\": 250.0,\n",
      "            \"node_set\": \"Mosaic_A\"\n",
      "        },\n",
      "        \"spikeReplay_ml_sensory\": {\n",
      "            \"module\": \"synapse_replay\",\n",
      "            \"delay\": 0.0,\n",
      "            \"duration\": 1275.0,\n",
      "            \"input_type\": \"spikes\",\n",
      "            \"spike_file\": \"$INPUT_DIR/synapse_replay.h5\",\n",
      "            \"node_set\": \"Mosaic_A\"\n",
      "        }\n",
      "    },\n",
      "    \"reports\": {\n",
      "        \"node_set\": {\n",
      "            \"cells\": \"Mosaic_A\",\n",
      "            \"sections\": \"soma\",\n",
      "            \"compartments\": \"center\",\n",
      "            \"type\": \"compartment\",\n",
      "            \"variable_name\": \"v\",\n",
      "            \"dt\": 0.1,\n",
      "            \"start_time\": 1000.0,\n",
      "            \"end_time\": 1275.0,\n",
      "            \"unit\": \"mV\"\n",
      "        },\n",
      "        \"compartment_set\": {\n",
      "            \"compartment_set\": \"Mosaic_A\",\n",
      "            \"type\": \"compartment_set\",\n",
      "            \"variable_name\": \"v\",\n",
      "            \"dt\": 0.1,\n",
      "            \"start_time\": 1000.0,\n",
      "            \"end_time\": 1275.0,\n",
      "            \"unit\": \"mV\"\n",
      "        }\n",
      "    }\n",
      "}\n"
     ]
    }
   ],
   "source": [
    "print(json.dumps(simulation_config_dict, indent=4))"
   ]
  },
  {
   "cell_type": "code",
   "execution_count": 29,
   "metadata": {},
   "outputs": [
    {
     "name": "stdout",
     "output_type": "stream",
     "text": [
      "{\n",
      "    \"hypamp_mosaic\": {\n",
      "        \"module\": \"hyperpolarizing\",\n",
      "        \"input_type\": \"current_clamp\",\n",
      "        \"delay\": 1000.0,\n",
      "        \"duration\": 250.0,\n",
      "        \"node_set\": \"Mosaic_A\"\n",
      "    },\n",
      "    \"spikeReplay_ml_sensory\": {\n",
      "        \"module\": \"synapse_replay\",\n",
      "        \"delay\": 0.0,\n",
      "        \"duration\": 1275.0,\n",
      "        \"input_type\": \"spikes\",\n",
      "        \"spike_file\": \"$INPUT_DIR/synapse_replay.h5\",\n",
      "        \"node_set\": \"Mosaic_A\"\n",
      "    }\n",
      "}\n"
     ]
    }
   ],
   "source": [
    "print(json.dumps(simulation_config_dict[\"inputs\"], indent=4))"
   ]
  },
  {
   "cell_type": "markdown",
   "metadata": {},
   "source": [
    "The input section represents the input stimuli to be given to target node sets (cell groups).\n",
    "\n",
    "In this simulation, we define **two stimuli**: `hypamp_mosaic` and `spikeReplay_ml_sensory`.\n",
    "\n",
    "* `hypamp_mosaic` applies a **hyperpolarizing current clamp** to cells in the `Mosaic_A` node set:\n",
    "\n",
    "  * `module`: \"hyperpolarizing\" uses the built-in hyperpolarizing protocol.\n",
    "  * `input_type`: \"current\\_clamp\" applies a direct current to the cells.\n",
    "  * `delay` and `duration`: define the timing of the stimulus in milliseconds.\n",
    "  * `node_set`: specifies the group of cells to receive this input.\n",
    "\n",
    "* `spikeReplay_ml_sensory` replays pre-recorded spikes onto synapses:\n",
    "\n",
    "  * `module`: \"synapse\\_replay\" means this input delivers spike-based activity via synapses.\n",
    "  * `input_type`: \"spikes\" designates that spike times are read from a file.\n",
    "  * `spike_file`: path to the HDF5 file containing spike times.\n",
    "  * `node_set`: defines which cells will receive synaptic input.\n",
    "  * `delay` and `duration`: determine the start time and total duration of this synaptic drive."
   ]
  },
  {
   "cell_type": "code",
   "execution_count": 30,
   "metadata": {},
   "outputs": [
    {
     "name": "stdout",
     "output_type": "stream",
     "text": [
      "{\n",
      "    \"node_set\": {\n",
      "        \"cells\": \"Mosaic_A\",\n",
      "        \"sections\": \"soma\",\n",
      "        \"compartments\": \"center\",\n",
      "        \"type\": \"compartment\",\n",
      "        \"variable_name\": \"v\",\n",
      "        \"dt\": 0.1,\n",
      "        \"start_time\": 1000.0,\n",
      "        \"end_time\": 1275.0,\n",
      "        \"unit\": \"mV\"\n",
      "    },\n",
      "    \"compartment_set\": {\n",
      "        \"compartment_set\": \"Mosaic_A\",\n",
      "        \"type\": \"compartment_set\",\n",
      "        \"variable_name\": \"v\",\n",
      "        \"dt\": 0.1,\n",
      "        \"start_time\": 1000.0,\n",
      "        \"end_time\": 1275.0,\n",
      "        \"unit\": \"mV\"\n",
      "    }\n",
      "}\n"
     ]
    }
   ],
   "source": [
    "print(json.dumps(simulation_config_dict[\"reports\"], indent=4))"
   ]
  },
  {
   "cell_type": "code",
   "execution_count": null,
   "metadata": {},
   "outputs": [
    {
     "name": "stdout",
     "output_type": "stream",
     "text": [
      "{'compartment_set': [[0, 'soma[0]', 0.5], [1, 'dend[10]', 0.3]],\n",
      " 'population': 'NodeA'}\n"
     ]
    }
   ],
   "source": [
    "import json\n",
    "with open(f\"sim_quick_scx_sonata_multicircuit/{simulation_config_dict['compartment_sets_file']}\") as f:\n",
    "    comp_sets = json.load(f)\n",
    "\n",
    "from pprint import pprint\n",
    "pprint(comp_sets[\"Mosaic_A\"])"
   ]
  },
  {
   "cell_type": "markdown",
   "metadata": {},
   "source": [
    "In the `reports` section, we now include **two types of voltage reports**:\n",
    "\n",
    "* `node_set`: a traditional compartment report for `Mosaic_A` cells, recording from the **soma center**:\n",
    "\n",
    "  * Uses `sections: soma` and `compartments: center`.\n",
    "  * Records the membrane voltage `v` for each cell in the node set.\n",
    "\n",
    "* `compartment_set`: a more flexible report based on **SONATA compartment sets**, which support two formats:\n",
    "\n",
    "  * The standard index-based format uses (section_id, segment_offset) tuples\n",
    "  * The name-based format (used in this example) uses (section_name, segment_offset) tuples.\n",
    "\n",
    "This setup enables precise selection of compartments beyond whole sections.\n",
    "\n",
    "For more details, see the [SONATA report documentation on compartment sets](https://sonata-extension.readthedocs.io/en/latest/sonata_report.html#file-compartment-sets-json).\n"
   ]
  },
  {
   "cell_type": "markdown",
   "metadata": {},
   "source": [
    "Here the circuit simulation is loaded using the CircuitSimulation object."
   ]
  },
  {
   "cell_type": "code",
   "execution_count": 32,
   "metadata": {},
   "outputs": [],
   "source": [
    "sim = CircuitSimulation(simulation_config)"
   ]
  },
  {
   "cell_type": "markdown",
   "metadata": {},
   "source": [
    "The input described in the simulation config is parsed in the Hyperpolarizing stimulus object."
   ]
  },
  {
   "cell_type": "code",
   "execution_count": 33,
   "metadata": {},
   "outputs": [
    {
     "data": {
      "text/plain": [
       "[Hyperpolarizing(target='Mosaic_A', delay=1000.0, duration=250.0),\n",
       " SynapseReplay(target='Mosaic_A', delay=0.0, duration=1275.0, spike_file='input/synapse_replay.h5')]"
      ]
     },
     "execution_count": 33,
     "metadata": {},
     "output_type": "execute_result"
    }
   ],
   "source": [
    "stimuli_entries = sim.circuit_access.config.get_all_stimuli_entries()\n",
    "stimuli_entries"
   ]
  },
  {
   "cell_type": "code",
   "execution_count": 34,
   "metadata": {},
   "outputs": [
    {
     "data": {
      "text/plain": [
       "Hyperpolarizing(target='Mosaic_A', delay=1000.0, duration=250.0)"
      ]
     },
     "execution_count": 34,
     "metadata": {},
     "output_type": "execute_result"
    }
   ],
   "source": [
    "stimulus = stimuli_entries[0]\n",
    "stimulus"
   ]
  },
  {
   "cell_type": "markdown",
   "metadata": {},
   "source": [
    "At this point, we will specify the cells that we are interested in and bluecellulab only will simulate those cells.\n",
    "\n",
    "One convenient way of selecting the cells is through the use of [SNAP](https://github.com/BlueBrain/snap/) library.\n",
    "\n",
    "SNAP is a Python library for accessing BlueBrain circuit models represented in SONATA format. It enables detailed querying of the cells and their connections."
   ]
  },
  {
   "cell_type": "code",
   "execution_count": 35,
   "metadata": {},
   "outputs": [],
   "source": [
    "from bluepysnap import Simulation as snap_sim"
   ]
  },
  {
   "cell_type": "markdown",
   "metadata": {},
   "source": [
    "Here we load the same simulation config using snap. We will look at the contents of the SONATA nodes and select the cells we wish to simulate."
   ]
  },
  {
   "cell_type": "code",
   "execution_count": 36,
   "metadata": {},
   "outputs": [],
   "source": [
    "snap_access = snap_sim(simulation_config)"
   ]
  },
  {
   "cell_type": "markdown",
   "metadata": {},
   "source": [
    "The simulation_config was specifying \"Mosaic_A\" as the node_set. Let's check what cells does it contain.\n",
    "\n",
    "Here this pandas table shows that NodeA is a population that contains 3 nodes in it."
   ]
  },
  {
   "cell_type": "code",
   "execution_count": 37,
   "metadata": {},
   "outputs": [],
   "source": [
    "import pandas as pd"
   ]
  },
  {
   "cell_type": "code",
   "execution_count": 38,
   "metadata": {},
   "outputs": [
    {
     "data": {
      "text/html": [
       "<div>\n",
       "<style scoped>\n",
       "    .dataframe tbody tr th:only-of-type {\n",
       "        vertical-align: middle;\n",
       "    }\n",
       "\n",
       "    .dataframe tbody tr th {\n",
       "        vertical-align: top;\n",
       "    }\n",
       "\n",
       "    .dataframe thead th {\n",
       "        text-align: right;\n",
       "    }\n",
       "</style>\n",
       "<table border=\"1\" class=\"dataframe\">\n",
       "  <thead>\n",
       "    <tr style=\"text-align: right;\">\n",
       "      <th></th>\n",
       "      <th></th>\n",
       "      <th>@dynamics:AIS_scaler</th>\n",
       "      <th>@dynamics:holding_current</th>\n",
       "      <th>@dynamics:threshold_current</th>\n",
       "      <th>etype</th>\n",
       "      <th>hemisphere</th>\n",
       "      <th>layer</th>\n",
       "      <th>minis</th>\n",
       "      <th>model_template</th>\n",
       "      <th>model_type</th>\n",
       "      <th>morph_class</th>\n",
       "      <th>...</th>\n",
       "      <th>mtype</th>\n",
       "      <th>orientation_w</th>\n",
       "      <th>orientation_x</th>\n",
       "      <th>orientation_y</th>\n",
       "      <th>orientation_z</th>\n",
       "      <th>region</th>\n",
       "      <th>synapse_class</th>\n",
       "      <th>x</th>\n",
       "      <th>y</th>\n",
       "      <th>z</th>\n",
       "    </tr>\n",
       "    <tr>\n",
       "      <th>population</th>\n",
       "      <th>node_ids</th>\n",
       "      <th></th>\n",
       "      <th></th>\n",
       "      <th></th>\n",
       "      <th></th>\n",
       "      <th></th>\n",
       "      <th></th>\n",
       "      <th></th>\n",
       "      <th></th>\n",
       "      <th></th>\n",
       "      <th></th>\n",
       "      <th></th>\n",
       "      <th></th>\n",
       "      <th></th>\n",
       "      <th></th>\n",
       "      <th></th>\n",
       "      <th></th>\n",
       "      <th></th>\n",
       "      <th></th>\n",
       "      <th></th>\n",
       "      <th></th>\n",
       "      <th></th>\n",
       "    </tr>\n",
       "  </thead>\n",
       "  <tbody>\n",
       "    <tr>\n",
       "      <th rowspan=\"3\" valign=\"top\">NodeA</th>\n",
       "      <th>0</th>\n",
       "      <td>1.264556</td>\n",
       "      <td>1.944669</td>\n",
       "      <td>1.118274</td>\n",
       "      <td>dSTUT</td>\n",
       "      <td>right</td>\n",
       "      <td>LA</td>\n",
       "      <td>79.915855</td>\n",
       "      <td>hoc:cNAC_L23BTC</td>\n",
       "      <td>biophysical</td>\n",
       "      <td>PYR</td>\n",
       "      <td>...</td>\n",
       "      <td>L4_PC</td>\n",
       "      <td>-0.233117</td>\n",
       "      <td>0.136089</td>\n",
       "      <td>-0.825741</td>\n",
       "      <td>0.556314</td>\n",
       "      <td>RB</td>\n",
       "      <td>INH</td>\n",
       "      <td>97.627007</td>\n",
       "      <td>89.766365</td>\n",
       "      <td>-124.825577</td>\n",
       "    </tr>\n",
       "    <tr>\n",
       "      <th>1</th>\n",
       "      <td>1.774234</td>\n",
       "      <td>1.521848</td>\n",
       "      <td>1.639921</td>\n",
       "      <td>dSTUT</td>\n",
       "      <td>right</td>\n",
       "      <td>LB</td>\n",
       "      <td>46.147938</td>\n",
       "      <td>hoc:cNAC_L23BTC</td>\n",
       "      <td>biophysical</td>\n",
       "      <td>PYR</td>\n",
       "      <td>...</td>\n",
       "      <td>L4_MC</td>\n",
       "      <td>0.583450</td>\n",
       "      <td>0.851193</td>\n",
       "      <td>-0.959563</td>\n",
       "      <td>0.740024</td>\n",
       "      <td>RB</td>\n",
       "      <td>EXC</td>\n",
       "      <td>430.378723</td>\n",
       "      <td>-152.690399</td>\n",
       "      <td>783.546021</td>\n",
       "    </tr>\n",
       "    <tr>\n",
       "      <th>2</th>\n",
       "      <td>1.456150</td>\n",
       "      <td>1.414662</td>\n",
       "      <td>1.143353</td>\n",
       "      <td>dNAC</td>\n",
       "      <td>left</td>\n",
       "      <td>LB</td>\n",
       "      <td>78.052917</td>\n",
       "      <td>hoc:cADpyr_L2TPC</td>\n",
       "      <td>biophysical</td>\n",
       "      <td>PYR</td>\n",
       "      <td>...</td>\n",
       "      <td>L4_MC</td>\n",
       "      <td>0.057790</td>\n",
       "      <td>-0.857928</td>\n",
       "      <td>0.665240</td>\n",
       "      <td>0.957237</td>\n",
       "      <td>RB</td>\n",
       "      <td>INH</td>\n",
       "      <td>205.526749</td>\n",
       "      <td>291.788239</td>\n",
       "      <td>927.325500</td>\n",
       "    </tr>\n",
       "  </tbody>\n",
       "</table>\n",
       "<p>3 rows × 21 columns</p>\n",
       "</div>"
      ],
      "text/plain": [
       "                     @dynamics:AIS_scaler  @dynamics:holding_current  \\\n",
       "population node_ids                                                    \n",
       "NodeA      0                     1.264556                   1.944669   \n",
       "           1                     1.774234                   1.521848   \n",
       "           2                     1.456150                   1.414662   \n",
       "\n",
       "                     @dynamics:threshold_current  etype hemisphere layer  \\\n",
       "population node_ids                                                        \n",
       "NodeA      0                            1.118274  dSTUT      right    LA   \n",
       "           1                            1.639921  dSTUT      right    LB   \n",
       "           2                            1.143353   dNAC       left    LB   \n",
       "\n",
       "                         minis    model_template   model_type morph_class  \\\n",
       "population node_ids                                                         \n",
       "NodeA      0         79.915855   hoc:cNAC_L23BTC  biophysical         PYR   \n",
       "           1         46.147938   hoc:cNAC_L23BTC  biophysical         PYR   \n",
       "           2         78.052917  hoc:cADpyr_L2TPC  biophysical         PYR   \n",
       "\n",
       "                     ...  mtype orientation_w  orientation_x  orientation_y  \\\n",
       "population node_ids  ...                                                      \n",
       "NodeA      0         ...  L4_PC     -0.233117       0.136089      -0.825741   \n",
       "           1         ...  L4_MC      0.583450       0.851193      -0.959563   \n",
       "           2         ...  L4_MC      0.057790      -0.857928       0.665240   \n",
       "\n",
       "                     orientation_z  region synapse_class           x  \\\n",
       "population node_ids                                                    \n",
       "NodeA      0              0.556314      RB           INH   97.627007   \n",
       "           1              0.740024      RB           EXC  430.378723   \n",
       "           2              0.957237      RB           INH  205.526749   \n",
       "\n",
       "                              y           z  \n",
       "population node_ids                          \n",
       "NodeA      0          89.766365 -124.825577  \n",
       "           1        -152.690399  783.546021  \n",
       "           2         291.788239  927.325500  \n",
       "\n",
       "[3 rows x 21 columns]"
      ]
     },
     "execution_count": 38,
     "metadata": {},
     "output_type": "execute_result"
    }
   ],
   "source": [
    "pd.concat([x[1] for x in snap_access.circuit.nodes.get(\"Mosaic_A\")])"
   ]
  },
  {
   "cell_type": "markdown",
   "metadata": {},
   "source": [
    "Below are all of the populations. There are 2 populations namely NodeA and NodeB. \n",
    "\n",
    "In the SONATA format, nodes in each population start from index 0. \n",
    "\n",
    "When we are working with a multi population simulation, the unique cell identifier is the composite key of `(population, node_id)`.\n",
    "\n",
    "This allows us to connect various SONATA nodes in any order. E.g. one can connect the SomatosensoralCortex circuit to the Thalamus circuit without having to worry about the order since there will be no conflict in the cell identifiers."
   ]
  },
  {
   "cell_type": "code",
   "execution_count": 39,
   "metadata": {},
   "outputs": [
    {
     "data": {
      "text/html": [
       "<div>\n",
       "<style scoped>\n",
       "    .dataframe tbody tr th:only-of-type {\n",
       "        vertical-align: middle;\n",
       "    }\n",
       "\n",
       "    .dataframe tbody tr th {\n",
       "        vertical-align: top;\n",
       "    }\n",
       "\n",
       "    .dataframe thead th {\n",
       "        text-align: right;\n",
       "    }\n",
       "</style>\n",
       "<table border=\"1\" class=\"dataframe\">\n",
       "  <thead>\n",
       "    <tr style=\"text-align: right;\">\n",
       "      <th></th>\n",
       "      <th></th>\n",
       "      <th>@dynamics:AIS_scaler</th>\n",
       "      <th>@dynamics:holding_current</th>\n",
       "      <th>@dynamics:threshold_current</th>\n",
       "      <th>etype</th>\n",
       "      <th>hemisphere</th>\n",
       "      <th>layer</th>\n",
       "      <th>minis</th>\n",
       "      <th>model_template</th>\n",
       "      <th>model_type</th>\n",
       "      <th>morph_class</th>\n",
       "      <th>...</th>\n",
       "      <th>mtype</th>\n",
       "      <th>orientation_w</th>\n",
       "      <th>orientation_x</th>\n",
       "      <th>orientation_y</th>\n",
       "      <th>orientation_z</th>\n",
       "      <th>region</th>\n",
       "      <th>synapse_class</th>\n",
       "      <th>x</th>\n",
       "      <th>y</th>\n",
       "      <th>z</th>\n",
       "    </tr>\n",
       "    <tr>\n",
       "      <th>population</th>\n",
       "      <th>node_ids</th>\n",
       "      <th></th>\n",
       "      <th></th>\n",
       "      <th></th>\n",
       "      <th></th>\n",
       "      <th></th>\n",
       "      <th></th>\n",
       "      <th></th>\n",
       "      <th></th>\n",
       "      <th></th>\n",
       "      <th></th>\n",
       "      <th></th>\n",
       "      <th></th>\n",
       "      <th></th>\n",
       "      <th></th>\n",
       "      <th></th>\n",
       "      <th></th>\n",
       "      <th></th>\n",
       "      <th></th>\n",
       "      <th></th>\n",
       "      <th></th>\n",
       "      <th></th>\n",
       "    </tr>\n",
       "  </thead>\n",
       "  <tbody>\n",
       "    <tr>\n",
       "      <th rowspan=\"3\" valign=\"top\">NodeA</th>\n",
       "      <th>0</th>\n",
       "      <td>1.264556</td>\n",
       "      <td>1.944669</td>\n",
       "      <td>1.118274</td>\n",
       "      <td>dSTUT</td>\n",
       "      <td>right</td>\n",
       "      <td>LA</td>\n",
       "      <td>79.915855</td>\n",
       "      <td>hoc:cNAC_L23BTC</td>\n",
       "      <td>biophysical</td>\n",
       "      <td>PYR</td>\n",
       "      <td>...</td>\n",
       "      <td>L4_PC</td>\n",
       "      <td>-0.233117</td>\n",
       "      <td>0.136089</td>\n",
       "      <td>-0.825741</td>\n",
       "      <td>0.556314</td>\n",
       "      <td>RB</td>\n",
       "      <td>INH</td>\n",
       "      <td>97.627007</td>\n",
       "      <td>89.766365</td>\n",
       "      <td>-124.825577</td>\n",
       "    </tr>\n",
       "    <tr>\n",
       "      <th>1</th>\n",
       "      <td>1.774234</td>\n",
       "      <td>1.521848</td>\n",
       "      <td>1.639921</td>\n",
       "      <td>dSTUT</td>\n",
       "      <td>right</td>\n",
       "      <td>LB</td>\n",
       "      <td>46.147938</td>\n",
       "      <td>hoc:cNAC_L23BTC</td>\n",
       "      <td>biophysical</td>\n",
       "      <td>PYR</td>\n",
       "      <td>...</td>\n",
       "      <td>L4_MC</td>\n",
       "      <td>0.583450</td>\n",
       "      <td>0.851193</td>\n",
       "      <td>-0.959563</td>\n",
       "      <td>0.740024</td>\n",
       "      <td>RB</td>\n",
       "      <td>EXC</td>\n",
       "      <td>430.378723</td>\n",
       "      <td>-152.690399</td>\n",
       "      <td>783.546021</td>\n",
       "    </tr>\n",
       "    <tr>\n",
       "      <th>2</th>\n",
       "      <td>1.456150</td>\n",
       "      <td>1.414662</td>\n",
       "      <td>1.143353</td>\n",
       "      <td>dNAC</td>\n",
       "      <td>left</td>\n",
       "      <td>LB</td>\n",
       "      <td>78.052917</td>\n",
       "      <td>hoc:cADpyr_L2TPC</td>\n",
       "      <td>biophysical</td>\n",
       "      <td>PYR</td>\n",
       "      <td>...</td>\n",
       "      <td>L4_MC</td>\n",
       "      <td>0.057790</td>\n",
       "      <td>-0.857928</td>\n",
       "      <td>0.665240</td>\n",
       "      <td>0.957237</td>\n",
       "      <td>RB</td>\n",
       "      <td>INH</td>\n",
       "      <td>205.526749</td>\n",
       "      <td>291.788239</td>\n",
       "      <td>927.325500</td>\n",
       "    </tr>\n",
       "    <tr>\n",
       "      <th rowspan=\"2\" valign=\"top\">NodeB</th>\n",
       "      <th>0</th>\n",
       "      <td>1.837945</td>\n",
       "      <td>1.820993</td>\n",
       "      <td>1.196582</td>\n",
       "      <td>dSTUT</td>\n",
       "      <td>right</td>\n",
       "      <td>LC</td>\n",
       "      <td>65.632957</td>\n",
       "      <td>hoc:bAC_IN</td>\n",
       "      <td>biophysical</td>\n",
       "      <td>INT</td>\n",
       "      <td>...</td>\n",
       "      <td>L4_PC</td>\n",
       "      <td>-0.582246</td>\n",
       "      <td>0.306217</td>\n",
       "      <td>-0.067378</td>\n",
       "      <td>-0.682061</td>\n",
       "      <td>RB</td>\n",
       "      <td>EXC</td>\n",
       "      <td>-369.143311</td>\n",
       "      <td>140.393539</td>\n",
       "      <td>976.747681</td>\n",
       "    </tr>\n",
       "    <tr>\n",
       "      <th>1</th>\n",
       "      <td>1.096098</td>\n",
       "      <td>1.097101</td>\n",
       "      <td>1.368725</td>\n",
       "      <td>dSTUT</td>\n",
       "      <td>right</td>\n",
       "      <td>LC</td>\n",
       "      <td>13.818295</td>\n",
       "      <td>hoc:bAC_IN</td>\n",
       "      <td>biophysical</td>\n",
       "      <td>PYR</td>\n",
       "      <td>...</td>\n",
       "      <td>L5_PC</td>\n",
       "      <td>-0.677381</td>\n",
       "      <td>-0.493417</td>\n",
       "      <td>-0.511149</td>\n",
       "      <td>-0.779250</td>\n",
       "      <td>RA</td>\n",
       "      <td>EXC</td>\n",
       "      <td>-272.578461</td>\n",
       "      <td>-122.796974</td>\n",
       "      <td>-795.910400</td>\n",
       "    </tr>\n",
       "  </tbody>\n",
       "</table>\n",
       "<p>5 rows × 21 columns</p>\n",
       "</div>"
      ],
      "text/plain": [
       "                     @dynamics:AIS_scaler  @dynamics:holding_current  \\\n",
       "population node_ids                                                    \n",
       "NodeA      0                     1.264556                   1.944669   \n",
       "           1                     1.774234                   1.521848   \n",
       "           2                     1.456150                   1.414662   \n",
       "NodeB      0                     1.837945                   1.820993   \n",
       "           1                     1.096098                   1.097101   \n",
       "\n",
       "                     @dynamics:threshold_current  etype hemisphere layer  \\\n",
       "population node_ids                                                        \n",
       "NodeA      0                            1.118274  dSTUT      right    LA   \n",
       "           1                            1.639921  dSTUT      right    LB   \n",
       "           2                            1.143353   dNAC       left    LB   \n",
       "NodeB      0                            1.196582  dSTUT      right    LC   \n",
       "           1                            1.368725  dSTUT      right    LC   \n",
       "\n",
       "                         minis    model_template   model_type morph_class  \\\n",
       "population node_ids                                                         \n",
       "NodeA      0         79.915855   hoc:cNAC_L23BTC  biophysical         PYR   \n",
       "           1         46.147938   hoc:cNAC_L23BTC  biophysical         PYR   \n",
       "           2         78.052917  hoc:cADpyr_L2TPC  biophysical         PYR   \n",
       "NodeB      0         65.632957        hoc:bAC_IN  biophysical         INT   \n",
       "           1         13.818295        hoc:bAC_IN  biophysical         PYR   \n",
       "\n",
       "                     ...  mtype orientation_w  orientation_x  orientation_y  \\\n",
       "population node_ids  ...                                                      \n",
       "NodeA      0         ...  L4_PC     -0.233117       0.136089      -0.825741   \n",
       "           1         ...  L4_MC      0.583450       0.851193      -0.959563   \n",
       "           2         ...  L4_MC      0.057790      -0.857928       0.665240   \n",
       "NodeB      0         ...  L4_PC     -0.582246       0.306217      -0.067378   \n",
       "           1         ...  L5_PC     -0.677381      -0.493417      -0.511149   \n",
       "\n",
       "                     orientation_z  region synapse_class           x  \\\n",
       "population node_ids                                                    \n",
       "NodeA      0              0.556314      RB           INH   97.627007   \n",
       "           1              0.740024      RB           EXC  430.378723   \n",
       "           2              0.957237      RB           INH  205.526749   \n",
       "NodeB      0             -0.682061      RB           EXC -369.143311   \n",
       "           1             -0.779250      RA           EXC -272.578461   \n",
       "\n",
       "                              y           z  \n",
       "population node_ids                          \n",
       "NodeA      0          89.766365 -124.825577  \n",
       "           1        -152.690399  783.546021  \n",
       "           2         291.788239  927.325500  \n",
       "NodeB      0         140.393539  976.747681  \n",
       "           1        -122.796974 -795.910400  \n",
       "\n",
       "[5 rows x 21 columns]"
      ]
     },
     "execution_count": 39,
     "metadata": {},
     "output_type": "execute_result"
    }
   ],
   "source": [
    "all_nodes = pd.concat([x[1] for x in snap_access.circuit.nodes.get()])\n",
    "all_nodes"
   ]
  },
  {
   "cell_type": "markdown",
   "metadata": {},
   "source": [
    "Below we select all of the cells of `dSTUT` (delayed stuttering) etype."
   ]
  },
  {
   "cell_type": "code",
   "execution_count": 40,
   "metadata": {},
   "outputs": [
    {
     "data": {
      "text/plain": [
       "[('NodeA', 0), ('NodeA', 1), ('NodeB', 0), ('NodeB', 1)]"
      ]
     },
     "execution_count": 40,
     "metadata": {},
     "output_type": "execute_result"
    }
   ],
   "source": [
    "dstut_cells = all_nodes[all_nodes[\"etype\"] == \"dSTUT\"].index.to_list()\n",
    "dstut_cells"
   ]
  },
  {
   "cell_type": "markdown",
   "metadata": {},
   "source": [
    "We initialise the simulation with the dSTUT cells, enabling stimuli and synapses, and runs it"
   ]
  },
  {
   "cell_type": "code",
   "execution_count": 41,
   "metadata": {},
   "outputs": [],
   "source": [
    "sim.instantiate_gids(dstut_cells, add_stimuli=True, add_synapses=True)\n",
    "t_stop = simulation_config_dict[\"run\"]['tstop']\n",
    "t_start = simulation_config_dict[\"run\"]['tstart']\n",
    "dt = simulation_config_dict[\"run\"]['dt']\n",
    "sim.run(t_stop=t_stop, forward_skip=True, forward_skip_value=t_start)"
   ]
  },
  {
   "cell_type": "markdown",
   "metadata": {},
   "source": [
    "We can then create and visualize the graph that shows the synaptic strengths between dSTUT cells in our NodeA and NodeB populations, offering insights into their neural connectivity."
   ]
  },
  {
   "cell_type": "code",
   "execution_count": 42,
   "metadata": {},
   "outputs": [
    {
     "data": {
      "image/png": "[encoded data removed]",
      "text/plain": [
       "<Figure size 600x500 with 2 Axes>"
      ]
     },
     "metadata": {},
     "output_type": "display_data"
    }
   ],
   "source": [
    "G = build_graph(sim.cells)\n",
    "plt = plot_graph(G, node_size=500, edge_width=0.6, node_distance=1.8)\n",
    "plt.savefig(\"ex2_sonatagraph.pdf\")\n",
    "plt.show()\n"
   ]
  },
  {
   "cell_type": "markdown",
   "metadata": {},
   "source": [
    "Finally, we can plot the voltage traces for each cell in the simulation."
   ]
  },
  {
   "cell_type": "code",
   "execution_count": 43,
   "metadata": {},
   "outputs": [
    {
     "data": {
      "image/png": "[encoded data removed]",
      "text/plain": [
       "<Figure size 1000x600 with 1 Axes>"
      ]
     },
     "metadata": {},
     "output_type": "display_data"
    }
   ],
   "source": [
    "idx_start = int((t_start) / dt) + 1\n",
    "idx_stop = int(t_stop / dt) + 1\n",
    "plt.figure(figsize=(10, 6))\n",
    "for cell_id in sim.cells:\n",
    "    # Get the voltage trace\n",
    "    time = sim.get_time_trace(t_start=t_start, t_stop=t_stop)\n",
    "    voltage = sim.get_voltage_trace(cell_id, t_start=t_start, t_stop=t_stop)\n",
    "    plt.plot(time, voltage, label=str(cell_id))\n",
    "    plt.legend()\n",
    "    plt.xlabel(\"Time (ms)\")\n",
    "    plt.ylabel(\"Voltage (mV)\")"
   ]
  },
  {
   "cell_type": "markdown",
   "metadata": {},
   "source": [
    "The figure shows that from all dSTUT cells, only the cells of NodeA population are affected by the Hyperpolarizing input."
   ]
  },
  {
   "cell_type": "markdown",
   "metadata": {},
   "source": [
    "## SONATA reports\n",
    "\n",
    "### Writing Reports in Single or Parallel Simulations\n",
    "\n",
    "`ReportManager` can write all reports using either:\n",
    "\n",
    "- `sim.cells` (for single-process simulations), or\n",
    "- Precomputed traces and spike data (required in parallel runs where results must be gathered from each rank).\n",
    "\n",
    "In parallel workflows, collect spikes and traces from all ranks before calling `write_all()` to ensure complete reports."
   ]
  },
  {
   "cell_type": "code",
   "execution_count": 44,
   "metadata": {},
   "outputs": [
    {
     "name": "stderr",
     "output_type": "stream",
     "text": [
      "WARNING:bluecellulab.reports.writers.spikes:No spikes to write for population 'NodeB'.\n"
     ]
    }
   ],
   "source": [
    "from bluecellulab.reports.manager import ReportManager\n",
    "\n",
    "report_mgr = ReportManager(sim.circuit_access.config, sim.dt)\n",
    "report_mgr.write_all(sim.cells)"
   ]
  }
 ],
 "metadata": {
  "kernelspec": {
   "display_name": ".venv",
   "language": "python",
   "name": "python3"
  },
  "language_info": {
   "codemirror_mode": {
    "name": "ipython",
    "version": 3
   },
   "file_extension": ".py",
   "mimetype": "text/x-python",
   "name": "python",
   "nbconvert_exporter": "python",
   "pygments_lexer": "ipython3",
   "version": "3.12.10"
  }
 },
 "nbformat": 4,
 "nbformat_minor": 4
}
